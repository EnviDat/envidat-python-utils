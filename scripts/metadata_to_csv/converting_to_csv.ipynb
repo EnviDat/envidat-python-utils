{
 "cells": [
  {
   "cell_type": "markdown",
   "metadata": {},
   "source": [
    "This notebook is for caling the metadata_to_csv module and generating the csv file which contains all metadata"
   ]
  },
  {
   "cell_type": "code",
   "execution_count": 2,
   "metadata": {},
   "outputs": [],
   "source": [
    "# import the module\n",
    "import metadata_to_csv"
   ]
  },
  {
   "cell_type": "code",
   "execution_count": 5,
   "metadata": {},
   "outputs": [
    {
     "name": "stderr",
     "output_type": "stream",
     "text": [
      "2023-11-24 15:51:51 | INFO: Getting package list with resources from https://www.envidat.ch.\n",
      "2023-11-24 15:51:51 | DEBUG: Attempting to get https://www.envidat.ch/api/3/action/current_package_list_with_resources?limit=100000\n",
      "2023-11-24 15:51:51 | DEBUG: Starting new HTTPS connection (1): www.envidat.ch:443\n",
      "2023-11-24 15:51:53 | DEBUG: https://www.envidat.ch:443 \"GET /api/3/action/current_package_list_with_resources?limit=100000 HTTP/1.1\" 200 None\n",
      "2023-11-24 15:51:53 | DEBUG: Extracting [result] key from JSON.\n",
      "2023-11-24 15:51:53 | INFO: Returned 604 metadata entries from API.\n",
      "2023-11-24 15:51:53 | INFO: Finished formatting the packages. Starting to create CSV file: 'package_list.csv'\n",
      "2023-11-24 15:51:53 | INFO: CSV file created: 'package_list.csv'\n"
     ]
    }
   ],
   "source": [
    "# the below method neds to be used for the generation of the csv file\n",
    "metadata_to_csv.convert_json_to_csv('package_list.csv')"
   ]
  }
 ],
 "metadata": {
  "kernelspec": {
   "display_name": "Python 3",
   "language": "python",
   "name": "python3"
  },
  "language_info": {
   "codemirror_mode": {
    "name": "ipython",
    "version": 3
   },
   "file_extension": ".py",
   "mimetype": "text/x-python",
   "name": "python",
   "nbconvert_exporter": "python",
   "pygments_lexer": "ipython3",
   "version": "3.11.6"
  }
 },
 "nbformat": 4,
 "nbformat_minor": 2
}
